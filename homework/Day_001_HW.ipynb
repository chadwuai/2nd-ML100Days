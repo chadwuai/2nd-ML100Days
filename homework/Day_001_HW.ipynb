{
 "cells": [
  {
   "cell_type": "markdown",
   "metadata": {},
   "source": [
    "## 練習時間\n",
    "#### 請寫一個函式用來計算 Mean Square Error\n",
    "$ MSE = \\frac{1}{n}\\sum_{i=1}^{n}{(Y_i - \\hat{Y}_i)^2} $\n",
    "\n",
    "### Hint: [如何取平方](https://googoodesign.gitbooks.io/-ezpython/unit-1.html)"
   ]
  },
  {
   "cell_type": "code",
   "execution_count": 1,
   "metadata": {},
   "outputs": [
    {
     "data": {
      "text/plain": [
       "'\\n作業1：\\n請上 Kaggle, 在 Competitions 或 Dataset 中找一組競賽或資料並寫下：\\n1. 你選的這組資料為何重要\\n\\t自1999年發布以來，這一經典的手寫圖像數據集已成為分類算法基準測試的基礎。\\n\\t\\n2. 資料從何而來 (tips: 譬如提供者是誰、以什麼方式蒐集)\\n\\tMNIST (\"Modified National Institute of Standards and Technology\")\\xa0\\n\\t\\n3. 蒐集而來的資料型態為何\\n\\t非結構化: handwritten images(手寫圖像)\\n\\t\\n4. 這組資料想解決的問題如何評估\\n\\t準確率(正確識別數字)\\n\\t\\n作業2：\\n想像你經營一個自由載客車隊，你希望能透過數據分析以提升業績，請你思考並描述你如何規劃整體的分析/解決方案：\\n1. 核心問題為何 (tips：如何定義 「提升業績 & 你的假設」)\\n\\t提升業績: 增加收入(擴大車隊, 增加營業時間)\\n\\t\\n2. 資料從何而來 (tips：哪些資料可能會對你想問的問題產生影響 & 資料如何蒐集)\\n\\t單一車輛收入, 里程, 營業時間 (收入:金額總計數字, 里程:IoT收集或者手動抄寫, 營業時間:打卡紀錄)\\n\\t\\n3. 蒐集而來的資料型態為何\\n\\t結構化數值(統計表格)\\n\\t\\n4. 你要回答的問題，其如何評估 (tips：你的假設如何驗證)\\n\\t準確率(?)\\n\\t\\n'"
      ]
     },
     "execution_count": 1,
     "metadata": {},
     "output_type": "execute_result"
    }
   ],
   "source": [
    "\"\"\"\n",
    "作業1：\n",
    "請上 Kaggle, 在 Competitions 或 Dataset 中找一組競賽或資料並寫下：\n",
    "1. 你選的這組資料為何重要\n",
    "\t自1999年發布以來，這一經典的手寫圖像數據集已成為分類算法基準測試的基礎。\n",
    "\t\n",
    "2. 資料從何而來 (tips: 譬如提供者是誰、以什麼方式蒐集)\n",
    "\tMNIST (\"Modified National Institute of Standards and Technology\") \n",
    "\t\n",
    "3. 蒐集而來的資料型態為何\n",
    "\t非結構化: handwritten images(手寫圖像)\n",
    "\t\n",
    "4. 這組資料想解決的問題如何評估\n",
    "\t準確率(正確識別數字)\n",
    "\t\n",
    "作業2：\n",
    "想像你經營一個自由載客車隊，你希望能透過數據分析以提升業績，請你思考並描述你如何規劃整體的分析/解決方案：\n",
    "1. 核心問題為何 (tips：如何定義 「提升業績 & 你的假設」)\n",
    "\t提升業績: 增加收入(擴大車隊, 增加營業時間)\n",
    "\t\n",
    "2. 資料從何而來 (tips：哪些資料可能會對你想問的問題產生影響 & 資料如何蒐集)\n",
    "\t單一車輛收入, 里程, 營業時間 (收入:金額總計數字, 里程:IoT收集或者手動抄寫, 營業時間:打卡紀錄)\n",
    "\t\n",
    "3. 蒐集而來的資料型態為何\n",
    "\t結構化數值(統計表格)\n",
    "\t\n",
    "4. 你要回答的問題，其如何評估 (tips：你的假設如何驗證)\n",
    "\t準確率(?)\n",
    "\t\n",
    "\"\"\""
   ]
  },
  {
   "cell_type": "code",
   "execution_count": 2,
   "metadata": {},
   "outputs": [],
   "source": [
    "import numpy as np\n",
    "import matplotlib.pyplot as plt\n",
    "import math"
   ]
  },
  {
   "cell_type": "code",
   "execution_count": 3,
   "metadata": {},
   "outputs": [
    {
     "data": {
      "image/png": "[encoded data removed]",
      "text/plain": [
       "<Figure size 432x288 with 1 Axes>"
      ]
     },
     "metadata": {
      "needs_background": "light"
     },
     "output_type": "display_data"
    }
   ],
   "source": [
    "w = 3\n",
    "b = 0.5\n",
    "\n",
    "x_lin = np.linspace(0, 100, 101)\n",
    "\n",
    "y = (x_lin + np.random.randn(101) * 5) * w + b\n",
    "\n",
    "plt.plot(x_lin, y, 'b.', label = 'data points')\n",
    "plt.title(\"Assume we have data points\")\n",
    "plt.legend(loc = 2)\n",
    "plt.show()"
   ]
  },
  {
   "cell_type": "code",
   "execution_count": 4,
   "metadata": {},
   "outputs": [
    {
     "data": {
      "image/png": "[encoded data removed]",
      "text/plain": [
       "<Figure size 432x288 with 1 Axes>"
      ]
     },
     "metadata": {
      "needs_background": "light"
     },
     "output_type": "display_data"
    }
   ],
   "source": [
    "y_hat = x_lin * w + b\n",
    "plt.plot(x_lin, y, 'b.', label = 'data')\n",
    "plt.plot(x_lin, y_hat, 'r-', label = 'prediction')\n",
    "plt.title(\"Assume we have data points (And the prediction)\")\n",
    "plt.legend(loc = 2)\n",
    "plt.show()"
   ]
  },
  {
   "cell_type": "code",
   "execution_count": 5,
   "metadata": {},
   "outputs": [
    {
     "name": "stdout",
     "output_type": "stream",
     "text": [
      "The Mean absolute error is 14.228\n"
     ]
    }
   ],
   "source": [
    "def mean_absolute_error(y, yp):\n",
    "    \"\"\"\n",
    "    計算 MAE\n",
    "    Args:\n",
    "        - y: 實際值\n",
    "        - yp: 預測值\n",
    "    Return:\n",
    "        - mae: MAE\n",
    "    \"\"\"\n",
    "    mae = MAE = sum(abs(y - yp)) / len(y)\n",
    "    return mae\n",
    "\n",
    "MAE = mean_absolute_error(y, y_hat)\n",
    "print(\"The Mean absolute error is %.3f\" % (MAE))"
   ]
  },
  {
   "cell_type": "code",
   "execution_count": 6,
   "metadata": {},
   "outputs": [
    {
     "name": "stdout",
     "output_type": "stream",
     "text": [
      "The Mean squared error is 310.492\n"
     ]
    }
   ],
   "source": [
    "def mean_squared_error(y, yp):\n",
    "    \"\"\"\n",
    "    計算 MSE\n",
    "    Args:\n",
    "        - y: 實際值\n",
    "        - yp: 預測值\n",
    "    Return:\n",
    "        - mse: MSE\n",
    "    \"\"\"\n",
    "    mse = MSE = sum(abs(y - yp)**2) / len(y)\n",
    "    return mse\n",
    "\n",
    "MSE = mean_squared_error(y, y_hat)\n",
    "print(\"The Mean squared error is %.3f\" % (MSE))"
   ]
  },
  {
   "cell_type": "code",
   "execution_count": 7,
   "metadata": {},
   "outputs": [
    {
     "name": "stdout",
     "output_type": "stream",
     "text": [
      "The Mean squared error is 310.492\n",
      "The Mean absolute error is 14.228\n"
     ]
    }
   ],
   "source": [
    "# 執行 Function, 確認有沒有正常執行\n",
    "MSE = mean_squared_error(y, y_hat)\n",
    "MAE = mean_absolute_error(y, y_hat)\n",
    "print(\"The Mean squared error is %.3f\" % (MSE))\n",
    "print(\"The Mean absolute error is %.3f\" % (MAE))"
   ]
  }
 ],
 "metadata": {
  "anaconda-cloud": {},
  "kernelspec": {
   "display_name": "Python 3",
   "language": "python",
   "name": "python3"
  },
  "language_info": {
   "codemirror_mode": {
    "name": "ipython",
    "version": 3
   },
   "file_extension": ".py",
   "mimetype": "text/x-python",
   "name": "python",
   "nbconvert_exporter": "python",
   "pygments_lexer": "ipython3",
   "version": "3.7.3"
  }
 },
 "nbformat": 4,
 "nbformat_minor": 1
}
